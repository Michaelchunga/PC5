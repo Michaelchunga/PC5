{
 "cells": [
  {
   "attachments": {},
   "cell_type": "markdown",
   "metadata": {},
   "source": [
    "# Importar Pandas"
   ]
  },
  {
   "cell_type": "code",
   "execution_count": 1,
   "metadata": {},
   "outputs": [],
   "source": [
    "#importa pandas\n",
    "import pandas as pd"
   ]
  },
  {
   "attachments": {},
   "cell_type": "markdown",
   "metadata": {},
   "source": [
    "# Crear una Serie"
   ]
  },
  {
   "attachments": {},
   "cell_type": "markdown",
   "metadata": {},
   "source": [
    "Explore series en python en el siguiente [link](https://pandas.pydata.org/pandas-docs/stable/user_guide/10min.html) en las primeras lineas del documento"
   ]
  },
  {
   "cell_type": "code",
   "execution_count": 2,
   "metadata": {
    "tags": []
   },
   "outputs": [
    {
     "name": "stdout",
     "output_type": "stream",
     "text": [
      "0    10\n",
      "1    20\n",
      "2    10\n",
      "dtype: int64\n"
     ]
    }
   ],
   "source": [
    "# Crea una Serie de los numeros 10, 20 and 10.\n",
    "\n",
    "import pandas as pd\n",
    "\n",
    "# Crear una lista con los números\n",
    "numeros = [10, 20, 10]\n",
    "\n",
    "# Crear la serie\n",
    "serie_numeros = pd.Series(numeros)\n",
    "\n",
    "# Imprimir la serie\n",
    "print(serie_numeros)\n",
    "\n"
   ]
  },
  {
   "cell_type": "code",
   "execution_count": 3,
   "metadata": {
    "tags": []
   },
   "outputs": [
    {
     "name": "stdout",
     "output_type": "stream",
     "text": [
      "0     rojo\n",
      "1    verde\n",
      "2     azul\n",
      "dtype: object\n"
     ]
    }
   ],
   "source": [
    "# Crea una Serie con tres objetos: 'rojo', 'verde', 'azul'\n",
    "\n",
    "import pandas as pd\n",
    "\n",
    "# Crear la serie con los objetos 'rojo', 'verde' y 'azul'\n",
    "serie = pd.Series(['rojo', 'verde', 'azul'])\n",
    "\n",
    "# Imprimir la serie\n",
    "print(serie)\n"
   ]
  },
  {
   "attachments": {},
   "cell_type": "markdown",
   "metadata": {},
   "source": [
    "# Crear un Dataframe"
   ]
  },
  {
   "cell_type": "code",
   "execution_count": 4,
   "metadata": {
    "tags": []
   },
   "outputs": [
    {
     "ename": "AttributeError",
     "evalue": "module 'pandas' has no attribute 'Dataframe'",
     "output_type": "error",
     "traceback": [
      "\u001b[1;31m---------------------------------------------------------------------------\u001b[0m",
      "\u001b[1;31mAttributeError\u001b[0m                            Traceback (most recent call last)",
      "Cell \u001b[1;32mIn[4], line 2\u001b[0m\n\u001b[0;32m      1\u001b[0m \u001b[39m# Crea un dataframe vacío llamado 'df'\u001b[39;00m\n\u001b[1;32m----> 2\u001b[0m df \u001b[39m=\u001b[39m pd\u001b[39m.\u001b[39;49mDataframe()\n",
      "File \u001b[1;32mc:\\Users\\micha\\anaconda3\\lib\\site-packages\\pandas\\__init__.py:264\u001b[0m, in \u001b[0;36m__getattr__\u001b[1;34m(name)\u001b[0m\n\u001b[0;32m    260\u001b[0m     \u001b[39mfrom\u001b[39;00m \u001b[39mpandas\u001b[39;00m\u001b[39m.\u001b[39;00m\u001b[39mcore\u001b[39;00m\u001b[39m.\u001b[39;00m\u001b[39marrays\u001b[39;00m\u001b[39m.\u001b[39;00m\u001b[39msparse\u001b[39;00m \u001b[39mimport\u001b[39;00m SparseArray \u001b[39mas\u001b[39;00m _SparseArray\n\u001b[0;32m    262\u001b[0m     \u001b[39mreturn\u001b[39;00m _SparseArray\n\u001b[1;32m--> 264\u001b[0m \u001b[39mraise\u001b[39;00m \u001b[39mAttributeError\u001b[39;00m(\u001b[39mf\u001b[39m\u001b[39m\"\u001b[39m\u001b[39mmodule \u001b[39m\u001b[39m'\u001b[39m\u001b[39mpandas\u001b[39m\u001b[39m'\u001b[39m\u001b[39m has no attribute \u001b[39m\u001b[39m'\u001b[39m\u001b[39m{\u001b[39;00mname\u001b[39m}\u001b[39;00m\u001b[39m'\u001b[39m\u001b[39m\"\u001b[39m)\n",
      "\u001b[1;31mAttributeError\u001b[0m: module 'pandas' has no attribute 'Dataframe'"
     ]
    }
   ],
   "source": [
    "# Crea un dataframe vacío llamado 'df'\n",
    "df = pd.Dataframe()"
   ]
  },
  {
   "cell_type": "code",
   "execution_count": null,
   "metadata": {
    "tags": []
   },
   "outputs": [],
   "source": [
    "# Crea una nueva columna en el dataframe, y asignale la primera serie que has creado\n",
    "import pandas as pd\n",
    "\n",
    "# Crear el dataframe\n",
    "df = pd.DataFrame()\n",
    "\n",
    "# Crear la nueva columna y asignarle los números\n",
    "df['NuevaColumna'] = [10, 20, 10]\n",
    "\n",
    "# Imprimir el dataframe\n",
    "print(df)\n"
   ]
  },
  {
   "cell_type": "code",
   "execution_count": null,
   "metadata": {
    "tags": []
   },
   "outputs": [],
   "source": [
    "# Crea otra columna en el dataframe y asignale la segunda Serie que has creado\n",
    "import pandas as pd\n",
    "\n",
    "# Crear un DataFrame vacío\n",
    "df = pd.DataFrame()\n",
    "\n",
    "# Crear la columna 'Numeros' y asignar los valores [10, 20, 10]\n",
    "df['Numeros'] = [10, 20, 10]\n",
    "\n",
    "# Crear la columna 'Colores' y asignar los valores ['rojo', 'verde', 'azul']\n",
    "df['Colores'] = ['rojo', 'verde', 'azul']\n",
    "\n",
    "# Imprimir el DataFrame\n",
    "print(df)\n"
   ]
  },
  {
   "attachments": {},
   "cell_type": "markdown",
   "metadata": {},
   "source": [
    "# Leer un dataframe"
   ]
  },
  {
   "cell_type": "code",
   "execution_count": null,
   "metadata": {
    "tags": []
   },
   "outputs": [],
   "source": [
    "# Lee el archivo llamado 'avengers.csv\" localizado en la carpeta \"data\" y crea un DataFrame, llamado 'avengers'. \n",
    "# El archivo está localizado en \"data/avengers.csv\"\n",
    "\n",
    "import pandas as pd\n",
    "\n",
    "# Ruta al archivo CSV\n",
    "ruta_archivo = 'C:/Users/micha/OneDrive/Documentos/michael/Python/PC5/src/data avengers/avengers.csv'\n",
    "\n",
    "# Leer el archivo CSV y crear el DataFrame\n",
    "avengers = pd.read_csv(ruta_archivo)\n",
    "\n",
    "# Mostrar el DataFrame\n",
    "print(avengers)\n",
    "\n"
   ]
  },
  {
   "attachments": {},
   "cell_type": "markdown",
   "metadata": {},
   "source": [
    "# Inspeccionar un dataframe"
   ]
  },
  {
   "cell_type": "code",
   "execution_count": null,
   "metadata": {
    "tags": []
   },
   "outputs": [],
   "source": [
    "# Muestra las primeras 5 filas del DataFrame.\n",
    "\n",
    "import pandas as pd\n",
    "\n",
    "# Ruta del archivo CSV\n",
    "ruta_archivo = \"C:/Users/micha/OneDrive/Documentos/michael/Python/PC5/src/data avengers/avengers.csv\"\n",
    "\n",
    "# Cargar el archivo CSV en un DataFrame\n",
    "dataframe = pd.read_csv(ruta_archivo)\n",
    "\n",
    "# Mostrar las primeras 5 filas del DataFrame\n",
    "primeras_filas = dataframe.head(5)\n",
    "print(primeras_filas)\n"
   ]
  },
  {
   "cell_type": "code",
   "execution_count": null,
   "metadata": {
    "tags": []
   },
   "outputs": [],
   "source": [
    "# Muestra las primeras 10 filas del DataFrame. \n",
    "import pandas as pd\n",
    "\n",
    "ruta_archivo = 'C:/Users/micha/OneDrive/Documentos/michael/Python/PC5/src/data avengers/avengers.csv'\n",
    "\n",
    "df = pd.read_csv(ruta_archivo)\n",
    "primeras_10_filas = df.head(10)\n",
    "\n",
    "print(primeras_10_filas)\n"
   ]
  },
  {
   "cell_type": "code",
   "execution_count": null,
   "metadata": {
    "tags": []
   },
   "outputs": [],
   "source": [
    "# Muestra las últimas 5 filas del DataFrame.\n",
    "\n",
    "import pandas as pd\n",
    "\n",
    "# Ruta del archivo CSV\n",
    "ruta_archivo = r'C:/Users/micha/OneDrive/Documentos/michael/Python/PC5/src/data avengers/avengers.csv'\n",
    "\n",
    "# Cargar el archivo CSV en un DataFrame\n",
    "df = pd.read_csv(ruta_archivo)\n",
    "\n",
    "# Mostrar las últimas 5 filas del DataFrame\n",
    "ultimas_filas = df.tail(5)\n",
    "print(ultimas_filas)\n"
   ]
  },
  {
   "attachments": {},
   "cell_type": "markdown",
   "metadata": {},
   "source": [
    "# Tamaño del DataFrame"
   ]
  },
  {
   "cell_type": "code",
   "execution_count": null,
   "metadata": {
    "tags": []
   },
   "outputs": [],
   "source": [
    "# Muestra el tamaño del DataFrame\n",
    "import pandas as pd\n",
    "\n",
    "ruta_archivo = 'C:/Users/micha/OneDrive/Documentos/michael/Python/PC5/src/data avengers/avengers.csv'\n",
    "df = pd.read_csv(ruta_archivo)\n",
    "tamaño = df.shape\n",
    "print(tamaño)\n"
   ]
  },
  {
   "attachments": {},
   "cell_type": "markdown",
   "metadata": {},
   "source": [
    "# Data types en un DataFrame"
   ]
  },
  {
   "cell_type": "code",
   "execution_count": null,
   "metadata": {
    "tags": []
   },
   "outputs": [],
   "source": [
    "# Muestra los data types del dataframe\n",
    "import pandas as pd\n",
    "\n",
    "# Ruta del archivo CSV\n",
    "ruta_archivo = r'C:/Users/micha/OneDrive/Documentos/michael/Python/PC5/src/data avengers/avengers.csv'\n",
    "\n",
    "# Cargar el archivo CSV en un DataFrame\n",
    "df = pd.read_csv(ruta_archivo)\n",
    "\n",
    "# Mostrar los tipos de datos de cada columna\n",
    "print(df.dtypes)\n"
   ]
  },
  {
   "attachments": {},
   "cell_type": "markdown",
   "metadata": {},
   "source": [
    "# Editar el indice (index)"
   ]
  },
  {
   "cell_type": "code",
   "execution_count": null,
   "metadata": {
    "tags": []
   },
   "outputs": [],
   "source": [
    "# Cambia el indice a la columna \"fecha_inicio\".\n",
    "\n",
    "import pandas as pd\n",
    "\n",
    "# Carga el archivo CSV en un DataFrame\n",
    "ruta_archivo = 'C:/Users/micha/OneDrive/Documentos/michael/Python/PC5/src/data avengers/avengers.csv'\n",
    "df = pd.read_csv(ruta_archivo)\n",
    "\n",
    "# Establece la columna \"fecha_inicio\" como índice\n",
    "df.set_index('fecha_inicio', inplace=True)\n",
    "\n",
    "# Imprime el DataFrame actualizado\n",
    "print(df)\n"
   ]
  },
  {
   "attachments": {},
   "cell_type": "markdown",
   "metadata": {},
   "source": [
    "# Ordenar el indice"
   ]
  },
  {
   "cell_type": "code",
   "execution_count": null,
   "metadata": {
    "tags": []
   },
   "outputs": [],
   "source": [
    "# Ordena el índice de forma descendiente\n",
    "import pandas as pd\n",
    "\n",
    "# Leer el archivo CSV\n",
    "ruta_archivo = \"C:/Users/micha/OneDrive/Documentos/michael/Python/PC5/src/data avengers/avengers.csv\"\n",
    "datos = pd.read_csv(ruta_archivo)\n",
    "\n",
    "# Ordenar el índice de forma descendente\n",
    "datos = datos.sort_index(ascending=False)\n",
    "\n",
    "# Imprimir el resultado\n",
    "print(datos)\n"
   ]
  },
  {
   "attachments": {},
   "cell_type": "markdown",
   "metadata": {},
   "source": [
    "# Resetear el indice"
   ]
  },
  {
   "cell_type": "code",
   "execution_count": null,
   "metadata": {
    "tags": []
   },
   "outputs": [],
   "source": [
    "# Resetea el índice\n",
    "\n",
    "import pandas as pd\n",
    "\n",
    "ruta_archivo = 'C:/Users/micha/OneDrive/Documentos/michael/Python/PC5/src/data avengers/avengers.csv'\n",
    "\n",
    "# Leer el archivo CSV\n",
    "datos = pd.read_csv(ruta_archivo)\n",
    "\n",
    "# Reiniciar el índice\n",
    "datos = datos.reset_index(drop=True)\n",
    "\n",
    "# Guardar los cambios en el mismo archivo\n",
    "datos.to_csv(ruta_archivo, index=False)\n",
    "\n",
    "print(\"Índice reiniciado exitosamente.\")\n"
   ]
  }
 ],
 "metadata": {
  "kernelspec": {
   "display_name": "Python 3 (ipykernel)",
   "language": "python",
   "name": "python3"
  },
  "language_info": {
   "codemirror_mode": {
    "name": "ipython",
    "version": 3
   },
   "file_extension": ".py",
   "mimetype": "text/x-python",
   "name": "python",
   "nbconvert_exporter": "python",
   "pygments_lexer": "ipython3",
   "version": "3.10.9"
  }
 },
 "nbformat": 4,
 "nbformat_minor": 4
}
